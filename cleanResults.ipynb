{
 "cells": [
  {
   "cell_type": "code",
   "execution_count": null,
   "id": "initial_id",
   "metadata": {
    "collapsed": true
   },
   "outputs": [],
   "source": [
    "import calendar\n",
    "import re\n",
    "import time\n",
    "\n",
    "import pandas as pd"
   ]
  },
  {
   "cell_type": "code",
   "execution_count": null,
   "outputs": [],
   "source": [
    "data = pd.read_csv(\"combined.csv\")\n",
    "data[\"Descriptipn\"] = data[\"Descriptipn\"].values.astype('str')\n",
    "\n",
    "data.head()"
   ],
   "metadata": {
    "collapsed": false
   },
   "id": "e644fb5145671c3"
  },
  {
   "cell_type": "code",
   "execution_count": null,
   "outputs": [],
   "source": [
    "data[\"Emails\"] = \"\"\n",
    "\n",
    "for i, j in data.iterrows():\n",
    "    emails = re.findall(r\"[a-z0-9\\.\\-+_]+@[a-z0-9\\.\\-+_]+\\.[a-z]+\", j.Descriptipn)\n",
    "    data.at[i, \"Emails\"] = emails"
   ],
   "metadata": {
    "collapsed": false
   },
   "id": "5cd13b39b2d28525"
  },
  {
   "cell_type": "code",
   "execution_count": null,
   "outputs": [],
   "source": [
    "data[\"Numbers\"] = \"\"\n",
    "whitelist = set(\"1234567890 +,-()|\")\n",
    "\n",
    "for i, j in data.iterrows():\n",
    "    data.at[i, \"Numbers\"] = \"\".join(filter(whitelist.__contains__, j.Descriptipn))"
   ],
   "metadata": {
    "collapsed": false
   },
   "id": "aaae6bdf5d8c1c38"
  },
  {
   "cell_type": "code",
   "execution_count": null,
   "outputs": [],
   "source": [
    "for i, j in data.iterrows():\n",
    "    if not data.at[i, \"Emails\"] and sum(1 for char in data.at[i, \"Numbers\"] if char.isdigit()) < 10:\n",
    "        data.drop(i, inplace=True)"
   ],
   "metadata": {
    "collapsed": false
   },
   "id": "9c9a51d0cd5c3d33"
  },
  {
   "cell_type": "code",
   "execution_count": null,
   "outputs": [],
   "source": [
    "data[\"Niche\"] = \"\"\n",
    "\n",
    "for i, j in data.iterrows():\n",
    "    if pd.isna(j[\"Keyword\"]):\n",
    "        data.at[i, \"Niche\"] = \"Null\"\n",
    "    else:\n",
    "        niche = j[\"Keyword\"].split(\"+ \")[1]\n",
    "        data.at[i, \"Niche\"] = niche"
   ],
   "metadata": {
    "collapsed": false
   },
   "id": "375aaaadba2aa142"
  },
  {
   "cell_type": "code",
   "execution_count": null,
   "outputs": [],
   "source": [
    "data[\"Type\"] = \"\"\n",
    "\n",
    "for i, j in data.iterrows():\n",
    "    if \"linkedin\" in j[\"Detail_URL\"]:\n",
    "        link_type = j[\"Detail_URL\"].split(\"linkedin\")[1].split(\"/\")[1]\n",
    "        match link_type:\n",
    "            case \"in\":\n",
    "                data.at[i, \"Type\"] = \"Candidate/Person\"\n",
    "            case \"posts\":\n",
    "                data.at[i, \"Type\"] = \"Post\"\n",
    "            case \"company\":\n",
    "                data.at[i, \"Type\"] = \"Company/Agency\"\n",
    "            case \"jobs\":\n",
    "                data.at[i, \"Type\"] = \"Job Post\"\n",
    "            case _:\n",
    "                data.at[i, \"Type\"] = \"Other\"\n",
    "    elif \"indeed\" in j[\"Detail_URL\"]:\n",
    "        data.at[i, \"Type\"] = \"Indeed\"\n",
    "    else:\n",
    "        data.at[i, \"Type\"] = \"Other\""
   ],
   "metadata": {
    "collapsed": false
   },
   "id": "dfcceeae106734c3"
  },
  {
   "cell_type": "code",
   "execution_count": null,
   "outputs": [],
   "source": [
    "data.drop(columns=[\"Language\", \"Source\", \"ErrorMessage\", \"Keyword\"], inplace=True)\n",
    "data.head(n=100)"
   ],
   "metadata": {
    "collapsed": false
   },
   "id": "e0879ed807cfe027"
  },
  {
   "cell_type": "code",
   "execution_count": null,
   "outputs": [],
   "source": [
    "data.to_csv(\"CleanedData \" + str(calendar.timegm(time.gmtime())) + \".csv\", index=False)"
   ],
   "metadata": {
    "collapsed": false
   },
   "id": "cdc2682c1ec44d09"
  }
 ],
 "metadata": {
  "kernelspec": {
   "display_name": "Python 3",
   "language": "python",
   "name": "python3"
  },
  "language_info": {
   "codemirror_mode": {
    "name": "ipython",
    "version": 2
   },
   "file_extension": ".py",
   "mimetype": "text/x-python",
   "name": "python",
   "nbconvert_exporter": "python",
   "pygments_lexer": "ipython2",
   "version": "2.7.6"
  }
 },
 "nbformat": 4,
 "nbformat_minor": 5
}
