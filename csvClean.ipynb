{
 "cells": [
  {
   "cell_type": "code",
   "execution_count": null,
   "id": "1d5b136a25b994c",
   "metadata": {
    "collapsed": true
   },
   "outputs": [],
   "source": [
    "import os\n",
    "\n",
    "import pandas as pd"
   ]
  },
  {
   "cell_type": "code",
   "execution_count": null,
   "outputs": [],
   "source": [
    "# Define the folder path where the CSV files are located\n",
    "folder_path = \"C:\\\\Users\\\\aliak\\\\Desktop\\\\CLINTON\\\\Work\\\\Payroll Easy\\\\Repos\\\\Search-Engines-Scraper\\\\csvData\"\n",
    "\n",
    "# Get the list of CSV file names in the folder\n",
    "csv_files = [f for f in os.listdir(folder_path) if f.endswith(\".csv\")]\n",
    "\n",
    "csv_files"
   ],
   "metadata": {
    "collapsed": false
   },
   "id": "2261c913edb9dc44"
  },
  {
   "cell_type": "code",
   "execution_count": null,
   "outputs": [],
   "source": [
    "# Initialize an empty list to store the dataframes\n",
    "dataframes = []\n",
    "\n",
    "# Loop through each CSV file and read it as a dataframe\n",
    "for csv_file in csv_files:\n",
    "    # Create the full file path by joining the folder path and the file name\n",
    "    file_path = os.path.join(folder_path, csv_file)\n",
    "\n",
    "    # Read the CSV file as a dataframe and append it to the list\n",
    "    df = pd.read_csv(file_path)\n",
    "    dataframes.append(df)"
   ],
   "metadata": {
    "collapsed": false
   },
   "id": "8b38833a15c40c70"
  },
  {
   "cell_type": "code",
   "execution_count": null,
   "outputs": [],
   "source": [
    "# Concatenate all the dataframes in the list into one dataframe\n",
    "combined_df = pd.concat(dataframes, ignore_index=True)\n",
    "combined_df.shape"
   ],
   "metadata": {
    "collapsed": false
   },
   "id": "9e91f5c722cb22e8"
  },
  {
   "cell_type": "code",
   "execution_count": null,
   "outputs": [],
   "source": [
    "new_comb_df = combined_df.drop_duplicates(subset=[\"Descriptipn\"])\n",
    "new_comb_df.shape"
   ],
   "metadata": {
    "collapsed": false
   },
   "id": "8c54727ba0c674ad"
  },
  {
   "cell_type": "code",
   "execution_count": null,
   "outputs": [],
   "source": [
    "# Save the combined dataframe as a CSV file in the same folder\n",
    "new_comb_df.to_csv(os.path.join(folder_path, \"combined.csv\"), index=False)"
   ],
   "metadata": {
    "collapsed": false
   },
   "id": "initial_id"
  }
 ],
 "metadata": {
  "kernelspec": {
   "display_name": "Python 3",
   "language": "python",
   "name": "python3"
  },
  "language_info": {
   "codemirror_mode": {
    "name": "ipython",
    "version": 2
   },
   "file_extension": ".py",
   "mimetype": "text/x-python",
   "name": "python",
   "nbconvert_exporter": "python",
   "pygments_lexer": "ipython2",
   "version": "2.7.6"
  }
 },
 "nbformat": 4,
 "nbformat_minor": 5
}
